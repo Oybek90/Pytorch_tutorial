{
 "cells": [
  {
   "cell_type": "markdown",
   "id": "8eb02575",
   "metadata": {},
   "source": [
    "### Pytorch basics"
   ]
  },
  {
   "cell_type": "code",
   "execution_count": 2,
   "id": "7ac9406a",
   "metadata": {},
   "outputs": [
    {
     "data": {
      "text/plain": [
       "'1.8.2+cu102'"
      ]
     },
     "execution_count": 2,
     "metadata": {},
     "output_type": "execute_result"
    }
   ],
   "source": [
    "import torch\n",
    "torch.__version__"
   ]
  },
  {
   "cell_type": "code",
   "execution_count": 5,
   "id": "9c3b9e8b",
   "metadata": {},
   "outputs": [
    {
     "name": "stdout",
     "output_type": "stream",
     "text": [
      "tensor([[6.9362e-07, 6.5930e-10, 4.3442e-05, 1.3034e+16, 2.1707e-18],\n",
      "        [7.0952e+22, 1.7748e+28, 1.8176e+31, 7.2708e+31, 5.0778e+31],\n",
      "        [3.2608e-12, 1.7728e+28, 7.0367e+22, 2.1715e-18, 2.0663e+20],\n",
      "        [6.8997e-07, 2.6433e-06, 4.2957e-05, 4.1298e-05, 1.0414e-11],\n",
      "        [1.7107e-04, 1.6877e-07, 1.6986e+22, 2.1707e-18, 7.1450e+31]])\n",
      "torch.Size([5, 5])\n"
     ]
    }
   ],
   "source": [
    "### Empty tensors\n",
    "\n",
    "# x = torch.empty(2)\n",
    "# x = torch.empty(2,8,3)\n",
    "x = torch.empty(5,5)\n",
    "# x = torch.empty(2,2,3)\n",
    "print(x)\n",
    "print(x.shape)"
   ]
  },
  {
   "cell_type": "code",
   "execution_count": 7,
   "id": "522e3141",
   "metadata": {},
   "outputs": [
    {
     "name": "stdout",
     "output_type": "stream",
     "text": [
      "tensor([[[0.3458, 0.6988, 0.1811],\n",
      "         [0.3133, 0.1766, 0.1435]],\n",
      "\n",
      "        [[0.8260, 0.9817, 0.7923],\n",
      "         [0.5214, 0.1541, 0.1644]]])\n",
      "torch.Size([2, 2, 3])\n"
     ]
    }
   ],
   "source": [
    "### Random tensors\n",
    "\n",
    "# x = torch.rand(2)\n",
    "# x = torch.rand(2,8,3)\n",
    "# x = torch.rand(5,5)\n",
    "x = torch.rand(2,2,3)\n",
    "print(x)\n",
    "print(x.shape)"
   ]
  },
  {
   "cell_type": "code",
   "execution_count": 12,
   "id": "8ef611f1",
   "metadata": {},
   "outputs": [
    {
     "name": "stdout",
     "output_type": "stream",
     "text": [
      "tensor([2.5000, 0.1000])\n"
     ]
    }
   ],
   "source": [
    "# x = torch.zeros(2)\n",
    "# x = torch.ones(2,8,3)\n",
    "# x = 5*torch.ones(5,5)\n",
    "x = torch.tensor([2.5, 0.1])\n",
    "print(x)"
   ]
  },
  {
   "cell_type": "code",
   "execution_count": null,
   "id": "28c45416",
   "metadata": {},
   "outputs": [],
   "source": []
  }
 ],
 "metadata": {
  "kernelspec": {
   "display_name": "Python 3 (ipykernel)",
   "language": "python",
   "name": "python3"
  },
  "language_info": {
   "codemirror_mode": {
    "name": "ipython",
    "version": 3
   },
   "file_extension": ".py",
   "mimetype": "text/x-python",
   "name": "python",
   "nbconvert_exporter": "python",
   "pygments_lexer": "ipython3",
   "version": "3.8.13"
  }
 },
 "nbformat": 4,
 "nbformat_minor": 5
}

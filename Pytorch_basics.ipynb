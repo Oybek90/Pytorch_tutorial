{
 "cells": [
  {
   "cell_type": "markdown",
   "id": "8eb02575",
   "metadata": {},
   "source": [
    "### Pytorch basics"
   ]
  },
  {
   "cell_type": "code",
   "execution_count": 1,
   "id": "7ac9406a",
   "metadata": {},
   "outputs": [
    {
     "data": {
      "text/plain": [
       "'2.0.1'"
      ]
     },
     "execution_count": 1,
     "metadata": {},
     "output_type": "execute_result"
    }
   ],
   "source": [
    "import torch\n",
    "torch.__version__"
   ]
  },
  {
   "cell_type": "code",
   "execution_count": 2,
   "id": "9c3b9e8b",
   "metadata": {},
   "outputs": [
    {
     "name": "stdout",
     "output_type": "stream",
     "text": [
      "tensor([[8.4490e-39, 9.9184e-39, 9.9184e-39, 9.0000e-39, 1.0561e-38],\n",
      "        [1.0653e-38, 4.1327e-39, 8.9082e-39, 9.8265e-39, 9.4592e-39],\n",
      "        [1.0561e-38, 1.0653e-38, 1.0469e-38, 9.5510e-39, 9.3673e-39],\n",
      "        [8.4490e-39, 1.1020e-38, 9.2755e-39, 9.6429e-39, 9.2755e-39],\n",
      "        [1.0653e-38, 9.9184e-39, 9.0918e-39, 1.0102e-38, 1.0653e-38]])\n",
      "torch.Size([5, 5])\n"
     ]
    }
   ],
   "source": [
    "### Empty tensors\n",
    "\n",
    "# x = torch.empty(2)\n",
    "# x = torch.empty(2,8,3)\n",
    "x = torch.empty(5,5)\n",
    "# x = torch.empty(2,2,3)\n",
    "print(x)\n",
    "print(x.shape)"
   ]
  },
  {
   "cell_type": "code",
   "execution_count": 3,
   "id": "d331e352",
   "metadata": {},
   "outputs": [
    {
     "name": "stdout",
     "output_type": "stream",
     "text": [
      "tensor([[[0.1677, 0.8664, 0.9935],\n",
      "         [0.9404, 0.2245, 0.4374]],\n",
      "\n",
      "        [[0.2314, 0.9641, 0.2533],\n",
      "         [0.0452, 0.3903, 0.4148]]])\n",
      "torch.Size([2, 2, 3])\n"
     ]
    }
   ],
   "source": [
    "### Random tensors\n",
    "\n",
    "# x = torch.rand(2)\n",
    "# x = torch.rand(2,8,3)\n",
    "# x = torch.rand(5,5)\n",
    "x = torch.rand(2,2,3)\n",
    "print(x)\n",
    "print(x.shape)"
   ]
  },
  {
   "cell_type": "code",
   "execution_count": 4,
   "id": "c2ada4b9",
   "metadata": {},
   "outputs": [
    {
     "name": "stdout",
     "output_type": "stream",
     "text": [
      "tensor([2.5000, 0.1000])\n"
     ]
    }
   ],
   "source": [
    "# x = torch.zeros(2)\n",
    "# x = torch.ones(2,8,3)\n",
    "# x = 5*torch.ones(5,5)\n",
    "x = torch.tensor([2.5, 0.1])\n",
    "print(x)"
   ]
  },
  {
   "cell_type": "markdown",
   "id": "23359526",
   "metadata": {},
   "source": [
    "### Elemen-wise operations"
   ]
  },
  {
   "cell_type": "code",
   "execution_count": 5,
   "id": "22c58c7b",
   "metadata": {},
   "outputs": [
    {
     "name": "stdout",
     "output_type": "stream",
     "text": [
      "x tessor is:\n",
      "  tensor([[0.7259, 0.9967],\n",
      "        [0.4883, 0.7956]])\n",
      "y tessor is:\n",
      "  tensor([[0.4686, 0.9926],\n",
      "        [0.1256, 0.1529]])\n",
      "z tessor is:\n",
      "  tensor([[1.1945, 1.9893],\n",
      "        [0.6140, 0.9485]])\n"
     ]
    }
   ],
   "source": [
    "### Addition\n",
    "\n",
    "x = torch.rand(2,2)\n",
    "y = torch.rand(2,2)\n",
    "z = torch.add(x,y) ## ==> x+y\n",
    "# y.add_(x)          ### ubdate y by adding x\n",
    "\n",
    "print(\"x tessor is:\\n \", x)\n",
    "print(\"y tessor is:\\n \", y)\n",
    "print(\"z tessor is:\\n \", z)"
   ]
  },
  {
   "cell_type": "code",
   "execution_count": 6,
   "id": "3d56c83a",
   "metadata": {},
   "outputs": [
    {
     "name": "stdout",
     "output_type": "stream",
     "text": [
      "x tessor is:\n",
      "  tensor([[0.0905, 0.5023],\n",
      "        [0.0566, 0.1592]])\n",
      "y tessor is:\n",
      "  tensor([[0.9576, 0.2075],\n",
      "        [0.2420, 0.8210]])\n",
      "z tessor is:\n",
      "  tensor([[-0.8671,  0.2948],\n",
      "        [-0.1854, -0.6618]])\n"
     ]
    }
   ],
   "source": [
    "### Substuction\n",
    "\n",
    "x = torch.rand(2,2)\n",
    "y = torch.rand(2,2)\n",
    "z = torch.sub(x,y) ## ==> x-y\n",
    "# y.sub_(x)          ### ubdate y by substracting x\n",
    "\n",
    "print(\"x tessor is:\\n \", x)\n",
    "print(\"y tessor is:\\n \", y)\n",
    "print(\"z tessor is:\\n \", z)"
   ]
  },
  {
   "cell_type": "code",
   "execution_count": 7,
   "id": "79772c1d",
   "metadata": {},
   "outputs": [
    {
     "name": "stdout",
     "output_type": "stream",
     "text": [
      "x tessor is:\n",
      "  tensor([[0.8375, 0.9910],\n",
      "        [0.3757, 0.6634]])\n",
      "y tessor is:\n",
      "  tensor([[0.5615, 0.4979],\n",
      "        [0.3670, 0.6253]])\n",
      "z tessor is:\n",
      "  tensor([[0.4703, 0.4935],\n",
      "        [0.1379, 0.4148]])\n"
     ]
    }
   ],
   "source": [
    "### Multiplication\n",
    "\n",
    "x = torch.rand(2,2)\n",
    "y = torch.rand(2,2)\n",
    "z = torch.mul(x,y) ## ==> x*y\n",
    "# y.mul_(x)          ### ubdate y by multiplaying x\n",
    "\n",
    "print(\"x tessor is:\\n \", x)\n",
    "print(\"y tessor is:\\n \", y)\n",
    "print(\"z tessor is:\\n \", z)"
   ]
  },
  {
   "cell_type": "code",
   "execution_count": 8,
   "id": "1e661d0b",
   "metadata": {},
   "outputs": [
    {
     "name": "stdout",
     "output_type": "stream",
     "text": [
      "x tessor is:\n",
      "  tensor([[0.9370, 0.0454],\n",
      "        [0.7378, 0.7158]])\n",
      "y tessor is:\n",
      "  tensor([[0.5254, 0.7700],\n",
      "        [0.4104, 0.4707]])\n",
      "z tessor is:\n",
      "  tensor([[1.7835, 0.0590],\n",
      "        [1.7978, 1.5205]])\n"
     ]
    }
   ],
   "source": [
    "### Division\n",
    "x = torch.rand(2,2)\n",
    "y = torch.rand(2,2)\n",
    "z = torch.div(x,y) ## ==> x/y\n",
    "# y.div_(x)          ### ubdate y by dividing x ==> y = y/x\n",
    "\n",
    "print(\"x tessor is:\\n \", x)\n",
    "print(\"y tessor is:\\n \", y)\n",
    "print(\"z tessor is:\\n \", z)"
   ]
  },
  {
   "cell_type": "code",
   "execution_count": 11,
   "id": "d35ca73c",
   "metadata": {},
   "outputs": [
    {
     "name": "stdout",
     "output_type": "stream",
     "text": [
      "Device cuda\n"
     ]
    }
   ],
   "source": [
    "device = torch.device(\"cuda\") if torch.cuda.is_available() else torch.device(\"cpu\")\n",
    "print(\"Device\", device)"
   ]
  },
  {
   "cell_type": "code",
   "execution_count": 12,
   "id": "2904634a",
   "metadata": {},
   "outputs": [
    {
     "name": "stdout",
     "output_type": "stream",
     "text": [
      "X tensor([[0., 0., 0.],\n",
      "        [0., 0., 0.]], device='cuda:0')\n"
     ]
    }
   ],
   "source": [
    "x = torch.zeros(2, 3)\n",
    "x = x.to(device)\n",
    "print(\"X\", x)"
   ]
  },
  {
   "cell_type": "code",
   "execution_count": 14,
   "id": "0a7b219c",
   "metadata": {},
   "outputs": [
    {
     "name": "stdout",
     "output_type": "stream",
     "text": [
      "CPU time: 0.83329s\n",
      "GPU time: 0.03786s\n"
     ]
    }
   ],
   "source": [
    "import time\n",
    "x = torch.randn(5000, 5000)\n",
    "\n",
    "## CPU version\n",
    "start_time = time.time()\n",
    "_ = torch.matmul(x, x)\n",
    "end_time = time.time()\n",
    "print(f\"CPU time: {(end_time - start_time):6.5f}s\")\n",
    "\n",
    "## GPU version\n",
    "x = x.to(device)\n",
    "_ = torch.matmul(x, x)  # First operation to 'burn in' GPU\n",
    "# CUDA is asynchronous, so we need to use different timing functions\n",
    "start = torch.cuda.Event(enable_timing=True)\n",
    "end = torch.cuda.Event(enable_timing=True)\n",
    "start.record()\n",
    "_ = torch.matmul(x, x)\n",
    "end.record()\n",
    "torch.cuda.synchronize()  # Waits for everything to finish running on the GPU\n",
    "print(f\"GPU time: {0.001 * start.elapsed_time(end):6.5f}s\")  # Milliseconds to seconds"
   ]
  },
  {
   "cell_type": "markdown",
   "id": "4ed01d37",
   "metadata": {},
   "source": [
    "### Autograd  Gradient Computation"
   ]
  },
  {
   "cell_type": "code",
   "execution_count": 9,
   "id": "3af232e9",
   "metadata": {},
   "outputs": [
    {
     "name": "stdout",
     "output_type": "stream",
     "text": [
      "tensor([0.2461, 0.1353, 0.4020], requires_grad=True)\n",
      "tensor([2.2461, 2.1353, 2.4020], grad_fn=<AddBackward0>)\n",
      "tensor(10.2494, grad_fn=<MeanBackward0>)\n",
      "tensor([2.9948, 2.8471, 3.2026])\n"
     ]
    }
   ],
   "source": [
    "import torch\n",
    "\n",
    "x = torch.rand(3, requires_grad=True)\n",
    "print(x)\n",
    "y = x+2\n",
    "print(y)\n",
    "z = y*y*2\n",
    "z = z.mean()\n",
    "print(z)\n",
    "z.backward()  ## dz/dx\n",
    "print(x.grad)"
   ]
  },
  {
   "cell_type": "code",
   "execution_count": 10,
   "id": "ea131a3a",
   "metadata": {},
   "outputs": [
    {
     "name": "stdout",
     "output_type": "stream",
     "text": [
      "tensor([0.4600, 0.0159, 0.8482], requires_grad=True)\n",
      "tensor([2.4600, 2.0159, 2.8482])\n"
     ]
    }
   ],
   "source": [
    "x = torch.rand(3, requires_grad=True)\n",
    "print(x)\n",
    "x.requires_grad_(False)\n",
    "y = x+2\n",
    "print(y)"
   ]
  },
  {
   "cell_type": "markdown",
   "id": "2a469081",
   "metadata": {},
   "source": [
    "### Model"
   ]
  },
  {
   "cell_type": "code",
   "execution_count": 29,
   "id": "cb4026fa",
   "metadata": {},
   "outputs": [],
   "source": [
    "import torch.nn as nn\n",
    "import torch.nn.functional as F"
   ]
  },
  {
   "cell_type": "code",
   "execution_count": 31,
   "id": "702f5b20",
   "metadata": {},
   "outputs": [],
   "source": [
    "class SimpleClassifier(nn.Module):\n",
    "\n",
    "    def __init__(self, num_inputs, num_hidden, num_outputs):\n",
    "        super().__init__()\n",
    "        # Initialize the modules we need to build the network\n",
    "        self.linear1 = nn.Linear(num_inputs, num_hidden)\n",
    "        self.act_fn = nn.Tanh()\n",
    "        self.linear2 = nn.Linear(num_hidden, num_outputs)\n",
    "\n",
    "    def forward(self, x):\n",
    "        # Perform the calculation of the model to determine the prediction\n",
    "        x = self.linear1(x)\n",
    "        x = self.act_fn(x)\n",
    "        x = self.linear2(x)\n",
    "        return x"
   ]
  },
  {
   "cell_type": "code",
   "execution_count": 33,
   "id": "5964caf8",
   "metadata": {},
   "outputs": [
    {
     "name": "stdout",
     "output_type": "stream",
     "text": [
      "SimpleClassifier(\n",
      "  (linear1): Linear(in_features=2, out_features=4, bias=True)\n",
      "  (act_fn): Tanh()\n",
      "  (linear2): Linear(in_features=4, out_features=1, bias=True)\n",
      ")\n"
     ]
    }
   ],
   "source": [
    "model = SimpleClassifier(num_inputs=2, num_hidden=4, num_outputs=1)\n",
    "print(model)"
   ]
  },
  {
   "cell_type": "code",
   "execution_count": 34,
   "id": "f6eccd13",
   "metadata": {},
   "outputs": [
    {
     "name": "stdout",
     "output_type": "stream",
     "text": [
      "Parameters linear1.weight, shape torch.Size([4, 2])\n",
      "Parameters linear1.bias, shape torch.Size([4])\n",
      "Parameters linear2.weight, shape torch.Size([1, 4])\n",
      "Parameters linear2.bias, shape torch.Size([1])\n"
     ]
    }
   ],
   "source": [
    "for name, param in model.named_parameters():\n",
    "    print(f\"Parameters {name}, shape {param.shape}\")"
   ]
  },
  {
   "cell_type": "markdown",
   "id": "13138ca0",
   "metadata": {},
   "source": [
    "### Dataset preparation"
   ]
  },
  {
   "cell_type": "code",
   "execution_count": 43,
   "id": "ff3fba89",
   "metadata": {},
   "outputs": [],
   "source": [
    "import torch.utils.data as data\n",
    "import torch\n",
    "import matplotlib.pyplot as plt"
   ]
  },
  {
   "cell_type": "code",
   "execution_count": 44,
   "id": "603b2e7e",
   "metadata": {},
   "outputs": [],
   "source": [
    "class XORDataset(data.Dataset):\n",
    "\n",
    "    def __init__(self, size, std=0.1):\n",
    "        \"\"\"\n",
    "        Inputs:\n",
    "            size - Number of data points we want to generate\n",
    "            std - Standard deviation of the noise (see generate_continuous_xor function)\n",
    "        \"\"\"\n",
    "        super().__init__()\n",
    "        self.size = size\n",
    "        self.std = std\n",
    "        self.generate_continuous_xor()\n",
    "\n",
    "    def generate_continuous_xor(self):\n",
    "        # Each data point in the XOR dataset has two variables, x and y, that can be either 0 or 1\n",
    "        # The label is their XOR combination, i.e. 1 if only x or only y is 1 while the other is 0.\n",
    "        # If x=y, the label is 0.\n",
    "        data = torch.randint(low=0, high=2, size=(self.size, 2), dtype=torch.float32)\n",
    "        label = (data.sum(dim=1) == 1).to(torch.long)\n",
    "        # To make it slightly more challenging, we add a bit of gaussian noise to the data points.\n",
    "        data += self.std * torch.randn(data.shape)\n",
    "\n",
    "        self.data = data\n",
    "        self.label = label\n",
    "\n",
    "    def __len__(self):\n",
    "        # Number of data point we have. Alternatively self.data.shape[0], or self.label.shape[0]\n",
    "        return self.size\n",
    "\n",
    "    def __getitem__(self, idx):\n",
    "        # Return the idx-th data point of the dataset\n",
    "        # If we have multiple things to return (data point and label), we can return them as tuple\n",
    "        data_point = self.data[idx]\n",
    "        data_label = self.label[idx]\n",
    "        return data_point, data_label"
   ]
  },
  {
   "cell_type": "code",
   "execution_count": 45,
   "id": "5a59a61a",
   "metadata": {},
   "outputs": [
    {
     "name": "stdout",
     "output_type": "stream",
     "text": [
      "Size of dataset: 200\n",
      "Data point 0: (tensor([0.0203, 0.0167]), tensor(0))\n"
     ]
    }
   ],
   "source": [
    "dataset = XORDataset(size=200)\n",
    "print(\"Size of dataset:\", len(dataset))\n",
    "print(\"Data point 0:\", dataset[0])"
   ]
  },
  {
   "cell_type": "code",
   "execution_count": 46,
   "id": "44d4cd2a",
   "metadata": {},
   "outputs": [],
   "source": [
    "def visualize_samples(data, label):\n",
    "    if isinstance(data, torch.Tensor):\n",
    "        data = data.cpu().numpy()\n",
    "    if isinstance(label, torch.Tensor):\n",
    "        label = label.cpu().numpy()\n",
    "    data_0 = data[label == 0]\n",
    "    data_1 = data[label == 1]\n",
    "\n",
    "    plt.figure(figsize=(4,4))\n",
    "    plt.scatter(data_0[:,0], data_0[:,1], edgecolor=\"#333\", label=\"Class 0\")\n",
    "    plt.scatter(data_1[:,0], data_1[:,1], edgecolor=\"#333\", label=\"Class 1\")\n",
    "    plt.title(\"Dataset samples\")\n",
    "    plt.ylabel(r\"$x_2$\")\n",
    "    plt.xlabel(r\"$x_1$\")\n",
    "    plt.legend()"
   ]
  },
  {
   "cell_type": "code",
   "execution_count": 47,
   "id": "a17d95ce",
   "metadata": {},
   "outputs": [
    {
     "data": {
      "image/png": "[encoded data removed]",
      "text/plain": [
       "<Figure size 400x400 with 1 Axes>"
      ]
     },
     "metadata": {},
     "output_type": "display_data"
    }
   ],
   "source": [
    "visualize_samples(dataset.data, dataset.label)\n",
    "plt.show()"
   ]
  },
  {
   "cell_type": "code",
   "execution_count": 48,
   "id": "65ad7c64",
   "metadata": {},
   "outputs": [
    {
     "name": "stdout",
     "output_type": "stream",
     "text": [
      "Data inputs torch.Size([8, 2]) \n",
      " tensor([[ 0.9627,  0.7666],\n",
      "        [-0.0155,  0.9703],\n",
      "        [ 1.1152,  1.0133],\n",
      "        [ 0.9906, -0.1576],\n",
      "        [ 0.1657,  1.0409],\n",
      "        [ 1.1653,  1.0094],\n",
      "        [ 0.0947,  0.0873],\n",
      "        [ 0.0841,  1.0036]])\n",
      "Data labels torch.Size([8]) \n",
      " tensor([0, 1, 0, 1, 1, 0, 0, 1])\n"
     ]
    }
   ],
   "source": [
    "data_loader = data.DataLoader(dataset, batch_size=8, shuffle=True)\n",
    "# next(iter(...)) catches the first batch of the data loader\n",
    "# If shuffle is True, this will return a different batch every time we run this cell\n",
    "# For iterating over the whole dataset, we can simple use \"for batch in data_loader: ...\"\n",
    "data_inputs, data_labels = next(iter(data_loader))\n",
    "\n",
    "# The shape of the outputs are [batch_size, d_1,...,d_N] where d_1,...,d_N are the\n",
    "# dimensions of the data point returned from the dataset class\n",
    "print(\"Data inputs\", data_inputs.shape, \"\\n\", data_inputs)\n",
    "print(\"Data labels\", data_labels.shape, \"\\n\", data_labels)"
   ]
  },
  {
   "cell_type": "code",
   "execution_count": null,
   "id": "cf1c6022",
   "metadata": {},
   "outputs": [],
   "source": []
  },
  {
   "cell_type": "code",
   "execution_count": null,
   "id": "6ab0f985",
   "metadata": {},
   "outputs": [],
   "source": []
  }
 ],
 "metadata": {
  "kernelspec": {
   "display_name": "Python 3 (ipykernel)",
   "language": "python",
   "name": "python3"
  },
  "language_info": {
   "codemirror_mode": {
    "name": "ipython",
    "version": 3
   },
   "file_extension": ".py",
   "mimetype": "text/x-python",
   "name": "python",
   "nbconvert_exporter": "python",
   "pygments_lexer": "ipython3",
   "version": "3.10.12"
  }
 },
 "nbformat": 4,
 "nbformat_minor": 5
}

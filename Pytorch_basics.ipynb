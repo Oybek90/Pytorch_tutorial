{
 "cells": [
  {
   "cell_type": "markdown",
   "id": "8eb02575",
   "metadata": {},
   "source": [
    "### Pytorch basics"
   ]
  },
  {
   "cell_type": "code",
   "execution_count": 2,
   "id": "7ac9406a",
   "metadata": {},
   "outputs": [
    {
     "data": {
      "text/plain": [
       "'1.8.2+cu102'"
      ]
     },
     "execution_count": 2,
     "metadata": {},
     "output_type": "execute_result"
    }
   ],
   "source": [
    "import torch\n",
    "torch.__version__"
   ]
  },
  {
   "cell_type": "code",
   "execution_count": 5,
   "id": "9c3b9e8b",
   "metadata": {},
   "outputs": [
    {
     "name": "stdout",
     "output_type": "stream",
     "text": [
      "tensor([[6.9362e-07, 6.5930e-10, 4.3442e-05, 1.3034e+16, 2.1707e-18],\n",
      "        [7.0952e+22, 1.7748e+28, 1.8176e+31, 7.2708e+31, 5.0778e+31],\n",
      "        [3.2608e-12, 1.7728e+28, 7.0367e+22, 2.1715e-18, 2.0663e+20],\n",
      "        [6.8997e-07, 2.6433e-06, 4.2957e-05, 4.1298e-05, 1.0414e-11],\n",
      "        [1.7107e-04, 1.6877e-07, 1.6986e+22, 2.1707e-18, 7.1450e+31]])\n",
      "torch.Size([5, 5])\n"
     ]
    }
   ],
   "source": [
    "### Empty tensors\n",
    "\n",
    "# x = torch.empty(2)\n",
    "# x = torch.empty(2,8,3)\n",
    "x = torch.empty(5,5)\n",
    "# x = torch.empty(2,2,3)\n",
    "print(x)\n",
    "print(x.shape)"
   ]
  },
  {
   "cell_type": "code",
   "execution_count": 7,
   "id": "d331e352",
   "metadata": {},
   "outputs": [
    {
     "name": "stdout",
     "output_type": "stream",
     "text": [
      "tensor([[[0.3458, 0.6988, 0.1811],\n",
      "         [0.3133, 0.1766, 0.1435]],\n",
      "\n",
      "        [[0.8260, 0.9817, 0.7923],\n",
      "         [0.5214, 0.1541, 0.1644]]])\n",
      "torch.Size([2, 2, 3])\n"
     ]
    }
   ],
   "source": [
    "### Random tensors\n",
    "\n",
    "# x = torch.rand(2)\n",
    "# x = torch.rand(2,8,3)\n",
    "# x = torch.rand(5,5)\n",
    "x = torch.rand(2,2,3)\n",
    "print(x)\n",
    "print(x.shape)"
   ]
  },
  {
   "cell_type": "code",
   "execution_count": 12,
   "id": "c2ada4b9",
   "metadata": {},
   "outputs": [
    {
     "name": "stdout",
     "output_type": "stream",
     "text": [
      "tensor([2.5000, 0.1000])\n"
     ]
    }
   ],
   "source": [
    "# x = torch.zeros(2)\n",
    "# x = torch.ones(2,8,3)\n",
    "# x = 5*torch.ones(5,5)\n",
    "x = torch.tensor([2.5, 0.1])\n",
    "print(x)"
   ]
  },
  {
   "cell_type": "markdown",
   "id": "23359526",
   "metadata": {},
   "source": [
    "### Elemen-wise operations"
   ]
  },
  {
   "cell_type": "code",
   "execution_count": 20,
   "id": "22c58c7b",
   "metadata": {},
   "outputs": [
    {
     "name": "stdout",
     "output_type": "stream",
     "text": [
      "x tessor is:\n",
      "  tensor([[0.1579, 0.0310],\n",
      "        [0.8617, 0.6397]])\n",
      "y tessor is:\n",
      "  tensor([[0.6794, 0.3288],\n",
      "        [0.2172, 0.9229]])\n",
      "z tessor is:\n",
      "  tensor([[0.8373, 0.3598],\n",
      "        [1.0788, 1.5626]])\n"
     ]
    }
   ],
   "source": [
    "### Addition\n",
    "\n",
    "x = torch.rand(2,2)\n",
    "y = torch.rand(2,2)\n",
    "z = torch.add(x,y) ## ==> x+y\n",
    "# y.add_(x)          ### ubdate y by adding x\n",
    "\n",
    "print(\"x tessor is:\\n \", x)\n",
    "print(\"y tessor is:\\n \", y)\n",
    "print(\"z tessor is:\\n \", z)"
   ]
  },
  {
   "cell_type": "code",
   "execution_count": 23,
   "id": "3d56c83a",
   "metadata": {},
   "outputs": [
    {
     "name": "stdout",
     "output_type": "stream",
     "text": [
      "x tessor is:\n",
      "  tensor([[0.6574, 0.5210],\n",
      "        [0.0273, 0.1048]])\n",
      "y tessor is:\n",
      "  tensor([[0.9981, 0.8227],\n",
      "        [0.0267, 0.7947]])\n",
      "z tessor is:\n",
      "  tensor([[-3.4071e-01, -3.0179e-01],\n",
      "        [ 5.1957e-04, -6.8988e-01]])\n"
     ]
    }
   ],
   "source": [
    "### Substuction\n",
    "\n",
    "x = torch.rand(2,2)\n",
    "y = torch.rand(2,2)\n",
    "z = torch.sub(x,y) ## ==> x-y\n",
    "# y.sub_(x)          ### ubdate y by substracting x\n",
    "\n",
    "print(\"x tessor is:\\n \", x)\n",
    "print(\"y tessor is:\\n \", y)\n",
    "print(\"z tessor is:\\n \", z)"
   ]
  },
  {
   "cell_type": "code",
   "execution_count": 25,
   "id": "79772c1d",
   "metadata": {},
   "outputs": [
    {
     "name": "stdout",
     "output_type": "stream",
     "text": [
      "x tessor is:\n",
      "  tensor([[0.8288, 0.5756],\n",
      "        [0.1871, 0.8033]])\n",
      "y tessor is:\n",
      "  tensor([[0.4283, 0.5330],\n",
      "        [0.0190, 0.4080]])\n",
      "z tessor is:\n",
      "  tensor([[0.4283, 0.5330],\n",
      "        [0.0190, 0.4080]])\n"
     ]
    }
   ],
   "source": [
    "### Multiplication\n",
    "\n",
    "x = torch.rand(2,2)\n",
    "y = torch.rand(2,2)\n",
    "z = torch.mul(x,y) ## ==> x*y\n",
    "# y.mul_(x)          ### ubdate y by multiplaying x\n",
    "\n",
    "print(\"x tessor is:\\n \", x)\n",
    "print(\"y tessor is:\\n \", y)\n",
    "print(\"z tessor is:\\n \", z)"
   ]
  },
  {
   "cell_type": "code",
   "execution_count": 27,
   "id": "1e661d0b",
   "metadata": {},
   "outputs": [
    {
     "name": "stdout",
     "output_type": "stream",
     "text": [
      "x tessor is:\n",
      "  tensor([[0.4852, 0.4915],\n",
      "        [0.5165, 0.9855]])\n",
      "y tessor is:\n",
      "  tensor([[1.6263, 1.9076],\n",
      "        [1.9038, 0.3470]])\n",
      "z tessor is:\n",
      "  tensor([[0.6149, 0.5242],\n",
      "        [0.5253, 2.8822]])\n"
     ]
    }
   ],
   "source": [
    "### Division\n",
    "x = torch.rand(2,2)\n",
    "y = torch.rand(2,2)\n",
    "z = torch.div(x,y) ## ==> x/y\n",
    "# y.div_(x)          ### ubdate y by dividing x ==> y = y/x\n",
    "\n",
    "print(\"x tessor is:\\n \", x)\n",
    "print(\"y tessor is:\\n \", y)\n",
    "print(\"z tessor is:\\n \", z)"
   ]
  },
  {
   "cell_type": "markdown",
   "id": "4ed01d37",
   "metadata": {},
   "source": [
    "### Autograd  Gradient Computation"
   ]
  },
  {
   "cell_type": "code",
   "execution_count": 31,
   "id": "3af232e9",
   "metadata": {},
   "outputs": [
    {
     "name": "stdout",
     "output_type": "stream",
     "text": [
      "tensor([0.6308, 0.1548, 0.8546], requires_grad=True)\n",
      "tensor([2.6308, 2.1548, 2.8546], grad_fn=<AddBackward0>)\n",
      "tensor(13.1420, grad_fn=<MeanBackward0>)\n",
      "tensor([3.5078, 2.8731, 3.8061])\n"
     ]
    }
   ],
   "source": [
    "import torch\n",
    "\n",
    "x = torch.rand(3, requires_grad=True)\n",
    "print(x)\n",
    "y = x+2\n",
    "print(y)\n",
    "z = y*y*2\n",
    "z = z.mean()\n",
    "print(z)\n",
    "z.backward()  ## dz/dx\n",
    "print(x.grad)"
   ]
  },
  {
   "cell_type": "code",
   "execution_count": 34,
   "id": "ea131a3a",
   "metadata": {},
   "outputs": [
    {
     "name": "stdout",
     "output_type": "stream",
     "text": [
      "tensor([0.8563, 0.0638, 0.0219], requires_grad=True)\n",
      "tensor([2.8563, 2.0638, 2.0219])\n"
     ]
    }
   ],
   "source": [
    "x = torch.rand(3, requires_grad=True)\n",
    "print(x)\n",
    "x.requires_grad_(False)\n",
    "y = x+2\n",
    "print(y)"
   ]
  },
  {
   "cell_type": "markdown",
   "id": "2a469081",
   "metadata": {},
   "source": [
    "### Backpropagation"
   ]
  },
  {
   "cell_type": "code",
   "execution_count": null,
   "id": "32aa885a",
   "metadata": {},
   "outputs": [],
   "source": []
  }
 ],
 "metadata": {
  "kernelspec": {
   "display_name": "Python 3 (ipykernel)",
   "language": "python",
   "name": "python3"
  },
  "language_info": {
   "codemirror_mode": {
    "name": "ipython",
    "version": 3
   },
   "file_extension": ".py",
   "mimetype": "text/x-python",
   "name": "python",
   "nbconvert_exporter": "python",
   "pygments_lexer": "ipython3",
   "version": "3.8.13"
  }
 },
 "nbformat": 4,
 "nbformat_minor": 5
}
